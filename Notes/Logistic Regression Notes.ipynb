{
 "cells": [
  {
   "cell_type": "markdown",
   "id": "b307162c",
   "metadata": {},
   "source": [
    "# <center>LOGISTIC REGRESSION</center>"
   ]
  },
  {
   "cell_type": "markdown",
   "id": "7fdfa1bd",
   "metadata": {},
   "source": [
    "## `Introduction`"
   ]
  },
  {
   "cell_type": "markdown",
   "id": "9cd5a5fe",
   "metadata": {},
   "source": [
    "<b>What is Logistic Regression?</b>\n",
    "- A supervised machine learning model where the dependent variable is categorical in nature.\n",
    "- It is a statistical method used for classification which predicts the probability of a dependent binary variable over one or more independent variables.\n",
    "- Uses the concept of conditional probability and odds ratio for fitting the model.\n",
    "\n",
    "<hr>\n",
    "\n",
    "<b>When to use Logistic Regression?</b>\n",
    "- To predict the outcome variable that is categorical from predictor variables that are continuous and/or categorical.\n",
    "- Examples: \n",
    "    - Does the college have a good placement or not?\n",
    "    - Will it rain tomorrow or not?\n",
    "    - Is the email spam or not?\n",
    "    \n",
    "<hr>\n",
    "\n",
    "<b>Visualization of Logistic Regression:</b>\n",
    "- S-shaped Function.\n",
    "- Perform classification as per the Threshold.\n",
    "\n",
    "<img src=\"assets/Logistic Regression.png\" width=500>\n",
    "\n",
    "\n",
    "<hr>\n",
    "\n",
    "<b>Sigmoid Function:</b>  \n",
    "The Logistic Regression model is made up of linear regression. i.e.  \n",
    "The Sigmoid function is applied on the linear output.  \n",
    "The Logistic Regression Equation/ Sigmoid Function is given by:  \n",
    "S<sub>w,b</sub>(x) = $\\frac{1}{1\\ +\\ e^-(wx+b)}$   \n",
    "where,  \n",
    "- w = m = slope of the curve\n",
    "- b = c = y-intercept\n",
    "\n",
    "<img src='assets/Logistic Regression Equation.png' width=500>"
   ]
  },
  {
   "cell_type": "markdown",
   "id": "f0e4057d",
   "metadata": {},
   "source": [
    "## `Assumptions of Logistic Regression`"
   ]
  },
  {
   "cell_type": "markdown",
   "id": "83ec7304",
   "metadata": {},
   "source": [
    "- Any assumption that holds for the linear model also holds for the logistic model.\n",
    "- The dependent variable should be binary; otherwise, multinomial logistic regression should be used.\n",
    "- Independent variables should be linearly related to the log(odds).\n",
    "- Model should be fitted correctly i.e. only the meaningful variables should be included.\n",
    "- The model should have little or no multicollinearity i.e. independent variables should be independent of each other.\n",
    "- Sample size should be large."
   ]
  }
 ],
 "metadata": {
  "kernelspec": {
   "display_name": "Python 3 (ipykernel)",
   "language": "python",
   "name": "python3"
  },
  "language_info": {
   "codemirror_mode": {
    "name": "ipython",
    "version": 3
   },
   "file_extension": ".py",
   "mimetype": "text/x-python",
   "name": "python",
   "nbconvert_exporter": "python",
   "pygments_lexer": "ipython3",
   "version": "3.11.3"
  }
 },
 "nbformat": 4,
 "nbformat_minor": 5
}
